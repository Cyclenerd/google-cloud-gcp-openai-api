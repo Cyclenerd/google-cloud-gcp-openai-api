{
  "cells": [
    {
      "cell_type": "code",
      "execution_count": null,
      "metadata": {
        "id": "jbl5pojWzAD0"
      },
      "outputs": [],
      "source": [
        "# Copyright 2023 Nils Knieling\n",
        "#\n",
        "# Licensed under the Apache License, Version 2.0 (the \"License\");\n",
        "# you may not use this file except in compliance with the License.\n",
        "# You may obtain a copy of the License at\n",
        "#\n",
        "#     https://www.apache.org/licenses/LICENSE-2.0\n",
        "#\n",
        "# Unless required by applicable law or agreed to in writing, software\n",
        "# distributed under the License is distributed on an \"AS IS\" BASIS,\n",
        "# WITHOUT WARRANTIES OR CONDITIONS OF ANY KIND, either express or implied.\n",
        "# See the License for the specific language governing permissions and\n",
        "# limitations under the License."
      ]
    },
    {
      "cell_type": "markdown",
      "metadata": {
        "id": "aVjTZHl4zKKi"
      },
      "source": [
        "# 💬 kölschGPT\n",
        "\n",
        "[![Open in Colab](https://img.shields.io/badge/Open%20in%20Colab-%23F9AB00.svg?logo=googlecolab&logoColor=white)](https://colab.research.google.com/github/Cyclenerd/google-cloud-gcp-openai-api/blob/cologne/koelschGPT.ipynb)\n",
        "[![Open in Vertex AI Workbench](https://img.shields.io/badge/Open%20in%20Vertex%20AI%20Workbench-%234285F4.svg?logo=googlecloud&logoColor=white)](https://console.cloud.google.com/vertex-ai/workbench/deploy-notebook?download_url=https://raw.githubusercontent.com/Cyclenerd/google-cloud-gcp-openai-api/cologne/koelschGPT.ipynb)\n",
        "[![View on GitHub](https://img.shields.io/badge/View%20on%20GitHub-181717.svg?logo=github&logoColor=white)](https://github.com/Cyclenerd/google-cloud-gcp-openai-api/blob/cologne/koelschGPT.ipynb)\n",
        "\n",
        "This notebook describes how to load documents from Google Drive. Currently, only Google Docs and Google Sheets are supported. Based on these documents and information, a chatbot (like ChatGPT or Bard) optimized for questions about cologne is created and installed in the Google Cloud as a serverless cloud run service.\n",
        "\n",
        "> By default, [**Google Cloud does not use Customer Data to train its foundation models**](https://cloud.google.com/vertex-ai/docs/generative-ai/data-governance#foundation_model_development) as part of Google Cloud's AI/ML Privacy Commitment. More details about how Google processes data can also be found in [Google's Customer Data Processing Addendum (CDPA)](https://cloud.google.com/terms/data-processing-addendum)."
      ]
    },
    {
      "cell_type": "markdown",
      "metadata": {
        "id": "ofbTwaIazX4Y"
      },
      "source": [
        "## Setup\n"
      ]
    },
    {
      "cell_type": "markdown",
      "metadata": {
        "id": "b-jHthvGs5pH"
      },
      "source": [
        "### Runtime\n",
        "\n",
        ">⚠️ You may receive a warning to \"Restart Runtime\" after the packages are installed. Don't worry, the subsequent cells will help you restart the runtime."
      ]
    },
    {
      "cell_type": "code",
      "execution_count": null,
      "metadata": {
        "cellView": "form",
        "id": "_6ez8wqmzb5n"
      },
      "outputs": [],
      "source": [
        "#@markdown #### Install dependencies\n",
        "\n",
        "#@markdown * [Google authentication](https://pypi.org/project/google-auth/)\n",
        "#@markdown * [Google API client](https://pypi.org/project/google-api-python-client/)\n",
        "#@markdown * [Google Vertex AI API client](https://pypi.org/project/google-cloud-aiplatform/)\n",
        "#@markdown * [LangChain](https://pypi.org/project/langchain/)\n",
        "#@markdown * [Facebook AI similarity search](https://pypi.org/project/faiss-cpu/)\n",
        "\n",
        "!pip install google-auth==2.22.0\n",
        "!pip install google-auth-oauthlib==1.0.0\n",
        "!pip install google-auth-httplib2==0.1.0\n",
        "!pip install google-api-python-client==2.97.0\n",
        "!pip install google-cloud-storage==2.10.0\n",
        "!pip install google-cloud-aiplatform==1.31.1\n",
        "\n",
        "!pip install langchain==0.0.276\n",
        "!pip install unstructured==0.10.8\n",
        "!pip install faiss-cpu==1.7.4\n",
        "\n",
        "print(\"☑️ Done\")"
      ]
    },
    {
      "cell_type": "code",
      "execution_count": null,
      "metadata": {
        "cellView": "form",
        "id": "rIwYTMZg01UX"
      },
      "outputs": [],
      "source": [
        "#@markdown #### Restart\n",
        "\n",
        "# Automatically restart kernel after installs so that your environment\n",
        "# can access the new packages.\n",
        "import IPython\n",
        "\n",
        "app = IPython.Application.instance()\n",
        "app.kernel.do_shutdown(True)"
      ]
    },
    {
      "cell_type": "markdown",
      "metadata": {
        "id": "a3rLBQnqtAQv"
      },
      "source": [
        "### Configuration\n",
        "\n",
        "Folder URL `https://drive.google.com/drive/u/0/folders/1yucgL9WGgWZdM1TOuKkeghlPizuzMYb5`, the folder ID is `1yucgL9WGgWZdM1TOuKkeghlPizuzMYb5`\n",
        "\n",
        "Regions: <https://cloud.google.com/vertex-ai/docs/general/locations#vertex-ai-regions>\n",
        "\n",
        "Key `openai_key` is used for authentication the chat frondend against the API backend application. It is not a real OpenAI API key."
      ]
    },
    {
      "cell_type": "code",
      "execution_count": null,
      "metadata": {
        "cellView": "form",
        "id": "xZK1M-0OK6GD"
      },
      "outputs": [],
      "source": [
        "# @markdown ✏️ Replace the placeholder text below:\n",
        "\n",
        "# Please fill in these values.\n",
        "project_id = \"your-google-cloud-project\"  # @param {type:\"string\"}\n",
        "region = \"europe-west1\"  # @param {type:\"string\"}\n",
        "vector_bucket = \"your-gcs-bucket-for-faiss-index\"  # @param {type:\"string\"}\n",
        "artifact_repository = \"docker-koelschgpt\"  # @param {type:\"string\"}\n",
        "folder_id = \"1iUrKVsEfVNW0CuzuF5JZw22aNfU0KjPD\"  # @param {type:\"string\"}\n",
        "openai_key = \"sk-do-ming-stadt-am-rhing\" # @param {type:\"string\"}\n",
        "\n",
        "# Quick input validations.\n",
        "assert project_id, \"⚠️ Please provide a Google Cloud project ID\"\n",
        "assert region, \"⚠️ Please provide a Google Cloud region\"\n",
        "assert vector_bucket, \"⚠️ Please provide a Google Cloud storage bucket for the vector store\"\n",
        "assert artifact_repository, \"⚠️ Please provide a Google Cloud Artifact repository name\"\n",
        "assert folder_id, \"⚠️ Please provide a valid folder ID\"\n",
        "assert openai_key, \"⚠️ Please provide a valid key for authentication\"\n",
        "\n",
        "# Configure gcloud.\n",
        "!gcloud config set project \"{project_id}\"\n",
        "!gcloud config set storage/parallel_composite_upload_enabled \"True\"\n",
        "\n",
        "print(f\"\\n☁️ Google Cloud project ID: {project_id}\")\n",
        "print(f\"📁 Google Drive folder ID: {folder_id}\")\n",
        "print(\"☑️ Done\")"
      ]
    },
    {
      "cell_type": "markdown",
      "metadata": {
        "id": "yq1eutyctGO9"
      },
      "source": [
        "### Authenticate"
      ]
    },
    {
      "cell_type": "code",
      "execution_count": null,
      "metadata": {
        "cellView": "form",
        "id": "rriTKU3R1PdS"
      },
      "outputs": [],
      "source": [
        "#@markdown #### (Colab only!) Authenticate your Google Cloud Account\n",
        "\n",
        "# Authenticate gcloud.\n",
        "from google.colab import auth\n",
        "auth.authenticate_user()\n",
        "\n",
        "print(\"☑️ OK\")"
      ]
    },
    {
      "cell_type": "code",
      "execution_count": null,
      "metadata": {
        "cellView": "form",
        "id": "iv07-mmUKrNJ"
      },
      "outputs": [],
      "source": [
        "#@markdown ####  Check authenticated user\n",
        "current_user = !gcloud auth list \\\n",
        "  --filter=\"status:ACTIVE\" \\\n",
        "  --format=\"value(account)\" \\\n",
        "  --quiet\n",
        "\n",
        "current_user = current_user[0]\n",
        "print(f\"Current user: {current_user}\")"
      ]
    },
    {
      "cell_type": "markdown",
      "metadata": {
        "id": "PZ_gIPspnYek"
      },
      "source": [
        "### Import"
      ]
    },
    {
      "cell_type": "code",
      "execution_count": null,
      "metadata": {
        "cellView": "form",
        "id": "RWLXL6XV1fSJ"
      },
      "outputs": [],
      "source": [
        "#@markdown #### Import Python libraries\n",
        "\n",
        "import sys\n",
        "import time\n",
        "from typing import List\n",
        "from pydantic import BaseModel\n",
        "from IPython.display import display, Markdown\n",
        "\n",
        "print(f\"🐍 Python: {sys.version}\")\n",
        "\n",
        "# Vertex AI\n",
        "# https://python.langchain.com/docs/integrations/llms/google_vertex_ai_palm\n",
        "from google.cloud import aiplatform\n",
        "\n",
        "aiplatform.init(\n",
        "    project=project_id,\n",
        "    location=region,\n",
        ")\n",
        "\n",
        "print(f\"☁️ Vertex AI SDK version: {aiplatform.__version__}\")\n",
        "\n",
        "# Langchain\n",
        "import langchain\n",
        "from langchain.llms import VertexAI\n",
        "# https://python.langchain.com/docs/integrations/document_loaders/google_drive\n",
        "from langchain.document_loaders import GoogleDriveLoader\n",
        "# https://python.langchain.com/docs/modules/data_connection/document_transformers/text_splitters/recursive_text_splitter\n",
        "from langchain.text_splitter import RecursiveCharacterTextSplitter\n",
        "# https://python.langchain.com/docs/integrations/text_embedding/google_vertex_ai_palm\n",
        "from langchain.embeddings import VertexAIEmbeddings\n",
        "# Facebook AI Similarity Search (FAISS), local Vector Store\n",
        "# https://engineering.fb.com/2017/03/29/data-infrastructure/faiss-a-library-for-efficient-similarity-search/\n",
        "from langchain.vectorstores import FAISS\n",
        "\n",
        "print(f\"🦜️ LangChain version: {langchain.__version__}\")"
      ]
    },
    {
      "cell_type": "markdown",
      "metadata": {
        "id": "RNdTod9pspSz"
      },
      "source": [
        "### APIs"
      ]
    },
    {
      "cell_type": "code",
      "execution_count": null,
      "metadata": {
        "cellView": "form",
        "id": "ODuKfAD6Ku2M"
      },
      "outputs": [],
      "source": [
        "#@markdown #### Enable Google Cloud APIs\n",
        "#@markdown > Only necessary if the APIs are not yet activated in the project!\n",
        "\n",
        "# Enable APIs\n",
        "my_google_apis = [\n",
        "    \"storage.googleapis.com\",\n",
        "    \"aiplatform.googleapis.com\",\n",
        "    \"drive.googleapis.com\",\n",
        "    \"run.googleapis.com\",\n",
        "    \"artifactregistry.googleapis.com\",\n",
        "    \"cloudbuild.googleapis.com\",\n",
        "    \"containeranalysis.googleapis.com\",\n",
        "    \"containerscanning.googleapis.com\",\n",
        "]\n",
        "\n",
        "for api in my_google_apis :\n",
        "  print(f\"Enable API: {api}\")\n",
        "  !gcloud services enable \"{api}\" \\\n",
        "    --project=\"{project_id}\" \\\n",
        "    --quiet\n",
        "\n",
        "print(\"☑️ OK\")"
      ]
    },
    {
      "cell_type": "markdown",
      "metadata": {
        "id": "iOAGdqeAtWfv"
      },
      "source": [
        "### Storage"
      ]
    },
    {
      "cell_type": "code",
      "execution_count": null,
      "metadata": {
        "cellView": "form",
        "id": "oLy1yhh2mQZJ"
      },
      "outputs": [],
      "source": [
        "#@markdown #### Create storage bucket for verctor store\n",
        "#@markdown > Only necessary if the bucket does not already exist!\n",
        "\n",
        "!gcloud storage buckets create 'gs://{vector_bucket}' \\\n",
        "  --location='{region}' \\\n",
        "  --uniform-bucket-level-access \\\n",
        "  --quiet\n",
        "\n",
        "print(\"☑️ Done\")"
      ]
    },
    {
      "cell_type": "code",
      "execution_count": null,
      "metadata": {
        "cellView": "form",
        "id": "ABa7lJRy1XFF"
      },
      "outputs": [],
      "source": [
        "#@markdown #### Add default compute service account as viewer to bucket\n",
        "\n",
        "project_number = !gcloud projects list \\\n",
        "  --filter=\"{project_id}\" \\\n",
        "  --format=\"value(PROJECT_NUMBER)\" \\\n",
        "  --quiet\n",
        "\n",
        "project_number = project_number[0]\n",
        "\n",
        "print(f\"Project number: {project_number}\")\n",
        "\n",
        "!gcloud storage buckets add-iam-policy-binding \"gs://{vector_bucket}\" \\\n",
        "  --member=\"serviceAccount:{project_number}-compute@developer.gserviceaccount.com\" \\\n",
        "  --role=\"roles/storage.objectViewer\" \\\n",
        "  --quiet\n",
        "\n",
        "print(\"☑️ Done\")"
      ]
    },
    {
      "cell_type": "markdown",
      "metadata": {
        "id": "3trFNcHdz2JS"
      },
      "source": [
        "### Registry"
      ]
    },
    {
      "cell_type": "code",
      "execution_count": null,
      "metadata": {
        "cellView": "form",
        "id": "kASHGe6Vz5vR"
      },
      "outputs": [],
      "source": [
        "#@markdown #### Create Artifact Registry repositoriy for Docker cointainer images\n",
        "#@markdown > Only necessary if the repositoriy does not already exist in the project and region!\n",
        "\n",
        "!gcloud artifacts repositories create \"{artifact_repository}\" \\\n",
        "  --repository-format=\"docker\"\\\n",
        "  --description=\"Docker contrainer registry\" \\\n",
        "  --location=\"{region}\" \\\n",
        "  --project=\"{project_id}\" \\\n",
        "  --quiet\n",
        "\n",
        "print(\"☑️ Done\")"
      ]
    },
    {
      "cell_type": "markdown",
      "metadata": {
        "id": "UAy6Q4P8xUTH"
      },
      "source": [
        "## Documents"
      ]
    },
    {
      "cell_type": "markdown",
      "metadata": {
        "id": "EE0tLkqzUkUd"
      },
      "source": [
        "### Load"
      ]
    },
    {
      "cell_type": "code",
      "execution_count": null,
      "metadata": {
        "cellView": "form",
        "id": "ietjzTojMAK9"
      },
      "outputs": [],
      "source": [
        "#@markdown #### Load documents from Google Drive folder\n",
        "\n",
        "loader = GoogleDriveLoader(\n",
        "    folder_id=folder_id,\n",
        "    file_types=[\"document\", \"sheet\"],\n",
        "    recursive=False\n",
        ")\n",
        "docs = loader.load()\n",
        "\n",
        "for doc in docs:\n",
        "  title = doc.metadata['title']\n",
        "  source = doc.metadata['source']\n",
        "\n",
        "  display(Markdown(f\"📄 [{title}]({source})\"))"
      ]
    },
    {
      "cell_type": "markdown",
      "metadata": {
        "id": "VbnOQF4xUMiL"
      },
      "source": [
        "### Transform"
      ]
    },
    {
      "cell_type": "code",
      "execution_count": null,
      "metadata": {
        "cellView": "form",
        "id": "xND6j0_dR-oJ"
      },
      "outputs": [],
      "source": [
        "#@markdown #### Split Google Workspace documents into chunks\n",
        "\n",
        "# Split long text descriptions into smaller chunks that can fit into\n",
        "# the API request size limit, as expected by the LLM providers.\n",
        "\n",
        "text_splitter = RecursiveCharacterTextSplitter(\n",
        "    separators=[\".\", \"\\n\"],\n",
        "    chunk_size=500,\n",
        "    chunk_overlap=0,\n",
        "    length_function=len,\n",
        ")\n",
        "\n",
        "chunked = text_splitter.split_documents(docs)\n",
        "\n",
        "print(\"Preview:\")\n",
        "print(chunked[0].page_content, \"\\n\")\n",
        "print(chunked[1].page_content)\n",
        "\n",
        "print(\"☑️ Done\")"
      ]
    },
    {
      "cell_type": "markdown",
      "metadata": {
        "id": "XirPCR00U0aW"
      },
      "source": [
        "### Embed"
      ]
    },
    {
      "cell_type": "code",
      "execution_count": null,
      "metadata": {
        "cellView": "form",
        "id": "8A4RfJzaU54B"
      },
      "outputs": [],
      "source": [
        "#@markdown #### Generate vector embeddings\n",
        "#@markdown > ⏳ This code snippet may run for a few minutes!\n",
        "\n",
        "# Embedding\n",
        "embeddings = VertexAIEmbeddings(\n",
        "    project=project_id,\n",
        "    max_retries=12,\n",
        "    request_parallelism=5,\n",
        ")\n",
        "# Embed your texts\n",
        "db = FAISS.from_documents(chunked, embeddings)\n",
        "\n",
        "# Store index\n",
        "faiss_index = \"faiss_index\" # filename\n",
        "db.save_local(faiss_index)\n",
        "\n",
        "# Expose index to the retriever\n",
        "retriever = db.as_retriever(search_type=\"similarity\", search_kwargs={\"k\": 2})\n",
        "retriever\n",
        "\n",
        "print(\"\\n☑️ Done\")"
      ]
    },
    {
      "cell_type": "markdown",
      "metadata": {
        "id": "JImqk7Sva9-A"
      },
      "source": [
        "### Test"
      ]
    },
    {
      "cell_type": "code",
      "execution_count": null,
      "metadata": {
        "cellView": "form",
        "id": "oU4Je1Emabbm"
      },
      "outputs": [],
      "source": [
        "# @markdown Enter search query in a simple English text.\n",
        "db_query = \"When is the cathedral open?\"  # @param {type:\"string\"}\n",
        "\n",
        "# Quick input validations.\n",
        "assert db_query, \"⚠️ Please input a valid input search text\"\n",
        "\n",
        "retriever_docs = retriever.get_relevant_documents(db_query)\n",
        "\n",
        "print(\"\\n\\n\".join([retriever_doc.page_content[:400] for retriever_doc in retriever_docs[:2]]))"
      ]
    },
    {
      "cell_type": "markdown",
      "metadata": {
        "id": "L7sodH7PnL7m"
      },
      "source": [
        "### Copy"
      ]
    },
    {
      "cell_type": "code",
      "execution_count": null,
      "metadata": {
        "cellView": "form",
        "id": "97Enl9zKnOde"
      },
      "outputs": [],
      "source": [
        "# @markdown #### Copy vector store to Google Cloud storage bucket\n",
        "# @markdown This bucket and verctor store is later used by the chat bot (AI).\n",
        "\n",
        "!gcloud storage cp -R {faiss_index}/* 'gs://{vector_bucket}/' \\\n",
        "  --quiet"
      ]
    },
    {
      "cell_type": "markdown",
      "metadata": {
        "id": "EkEMm8P432U4"
      },
      "source": [
        "> 💡 Info: If you stored new documents in the Google Drive folder or changed the documents you always have to regenerate (load, transform, embed) and save/copy the new vector store. To be sure that the new index is used I also recommend a re-deployment of the Cloud Run API backend service."
      ]
    },
    {
      "cell_type": "markdown",
      "metadata": {
        "id": "rPv9RMgPn5fu"
      },
      "source": [
        "## Deploy"
      ]
    },
    {
      "cell_type": "markdown",
      "metadata": {
        "id": "8GPSgec-n-rO"
      },
      "source": [
        "### Backend"
      ]
    },
    {
      "cell_type": "code",
      "execution_count": null,
      "metadata": {
        "cellView": "form",
        "id": "2d6E978LnTFv"
      },
      "outputs": [],
      "source": [
        "#@markdown #### Build Docker cointainer for API backend\n",
        "\n",
        "backend_git = \"https://github.com/Cyclenerd/google-cloud-gcp-openai-api.git\"  # @param {type:\"string\"}\n",
        "backend_git_rev = \"cologne\"  # @param {type:\"string\"}\n",
        "assert backend_git, \"⚠️ Please provide a Git repo\"\n",
        "assert backend_git_rev, \"⚠️ Please provide a Git revision\"\n",
        "\n",
        "!gcloud builds submit \"{backend_git}\" \\\n",
        "    --git-source-revision=\"{backend_git_rev}\" \\\n",
        "    --tag=\"{region}-docker.pkg.dev/{project_id}/{artifact_repository}/vertex:cologne\" \\\n",
        "    --timeout=\"1h\" \\\n",
        "    --region=\"{region}\" \\\n",
        "    --default-buckets-behavior=\"regional-user-owned-bucket\" \\\n",
        "    --quiet"
      ]
    },
    {
      "cell_type": "code",
      "execution_count": null,
      "metadata": {
        "cellView": "form",
        "id": "tJTs9GDNnU_X"
      },
      "outputs": [],
      "source": [
        "#@markdown #### Deploy Cloud Run service with API backend\n",
        "\n",
        "!gcloud run deploy \"cologne-api\" \\\n",
        "    --image=\"{region}-docker.pkg.dev/{project_id}/{artifact_repository}/vertex:cologne\" \\\n",
        "    --description=\"Vertex AI ob Kölsch\" \\\n",
        "    --region=\"{region}\" \\\n",
        "    --set-env-vars=\"OPENAI_API_KEY={openai_key},GOOGLE_CLOUD_LOCATION={region},VECTOR_BUCKET={vector_bucket},VECTOR_DIR=/vector,FAISS_INDEX=/vector\" \\\n",
        "    --max-instances=4 \\\n",
        "    --allow-unauthenticated \\\n",
        "    --quiet"
      ]
    },
    {
      "cell_type": "markdown",
      "metadata": {
        "id": "TnCpVBv0qPRq"
      },
      "source": [
        "### Frontend\n",
        "\n",
        "Git repos:\n",
        "\n",
        "*   [Chatbot UI](https://github.com/mckaywrigley/chatbot-ui): `https://github.com/mckaywrigley/chatbot-ui.git`\n",
        "*   [Chatbot UI fork](https://github.com/Cyclenerd/chatbot-ui) with less OpenAI branding: `https://github.com/Cyclenerd/chatbot-ui.git`\n",
        "\n"
      ]
    },
    {
      "cell_type": "code",
      "execution_count": null,
      "metadata": {
        "cellView": "form",
        "id": "2L1IKPAHqRgM"
      },
      "outputs": [],
      "source": [
        "#@markdown #### Build Docker cointainer for chat frontend\n",
        "\n",
        "\n",
        "frontend_git = \"https://github.com/Cyclenerd/chatbot-ui.git\"  # @param {type:\"string\"}\n",
        "frontend_git_rev = \"main\"  # @param {type:\"string\"}\n",
        "\n",
        "assert frontend_git, \"⚠️ Please provide a Git repo\"\n",
        "assert frontend_git_rev, \"⚠️ Please provide a Git revision\"\n",
        "\n",
        "!gcloud builds submit \"{frontend_git}\" \\\n",
        "    --git-source-revision=\"{frontend_git_rev}\" \\\n",
        "    --tag=\"{region}-docker.pkg.dev/{project_id}/{artifact_repository}/chatbot-ui:main\" \\\n",
        "    --timeout=\"1h\" \\\n",
        "    --region=\"{region}\" \\\n",
        "    --default-buckets-behavior=\"regional-user-owned-bucket\" \\\n",
        "    --quiet"
      ]
    },
    {
      "cell_type": "code",
      "execution_count": null,
      "metadata": {
        "cellView": "form",
        "id": "X1cMzomWqxju"
      },
      "outputs": [],
      "source": [
        "#@markdown #### Deploy Cloud Run service with chat frontend\n",
        "\n",
        "# @markdown ✏️ Replace the Cloud Run service URL from the backend below:\n",
        "\n",
        "backend_url = \"https://cologne-api-yjbgpbvhaq-ew.a.run.app\"  # @param {type:\"string\"}\n",
        "assert backend_url, \"⚠️ Please provide a Cloud Run backend URL\"\n",
        "\n",
        "!gcloud run deploy \"koelschgpt\" \\\n",
        "    --image=\"{region}-docker.pkg.dev/{project_id}/{artifact_repository}/chatbot-ui:main\" \\\n",
        "    --description=\"kölschGPT\" \\\n",
        "    --region=\"{region}\" \\\n",
        "    --set-env-vars=\"OPENAI_API_KEY={openai_key},OPENAI_API_HOST={backend_url}\" \\\n",
        "    --max-instances=2 \\\n",
        "    --allow-unauthenticated \\\n",
        "    --quiet"
      ]
    },
    {
      "cell_type": "markdown",
      "metadata": {
        "id": "Z403ny7WnmaZ"
      },
      "source": [
        "## 🗑️ Clean up\n",
        "\n",
        "If you don't need the infrastructure anymore, you can delete it with the following snippets."
      ]
    },
    {
      "cell_type": "code",
      "execution_count": null,
      "metadata": {
        "cellView": "form",
        "id": "jnpf_oOerltB"
      },
      "outputs": [],
      "source": [
        "#@markdown ### Delete Cloud Run service with chat frontend\n",
        "\n",
        "!gcloud run services delete \"koelschgpt\" \\\n",
        "  --region=\"{region}\" \\\n",
        "  --project=\"{project_id}\" \\\n",
        "  --quiet"
      ]
    },
    {
      "cell_type": "code",
      "execution_count": null,
      "metadata": {
        "cellView": "form",
        "id": "rZNIMYbrsr8L"
      },
      "outputs": [],
      "source": [
        "#@markdown ### Delete Cloud Run service with API backend\n",
        "\n",
        "!gcloud run services delete \"cologne-api\" \\\n",
        "  --region=\"{region}\" \\\n",
        "  --project=\"{project_id}\" \\\n",
        "  --quiet"
      ]
    },
    {
      "cell_type": "code",
      "execution_count": null,
      "metadata": {
        "cellView": "form",
        "id": "UumE0AgIn3-1"
      },
      "outputs": [],
      "source": [
        "#@markdown ### Delete bucket for vector index\n",
        "\n",
        "!gcloud storage rm -r 'gs://{vector_bucket}' \\\n",
        "  --project=\"{project_id}\" \\\n",
        "  --quiet\n",
        "\n",
        "print(\"☑️ Done\")"
      ]
    },
    {
      "cell_type": "code",
      "execution_count": null,
      "metadata": {
        "cellView": "form",
        "id": "XxOVb5NZjT4y"
      },
      "outputs": [],
      "source": [
        "#@markdown ### Delete Artifact Registry repositoriy\n",
        "!gcloud artifacts repositories delete \"{artifact_repository}\" \\\n",
        "  --location=\"{region}\" \\\n",
        "  --project=\"{project_id}\" \\\n",
        "  --quiet"
      ]
    }
  ],
  "metadata": {
    "colab": {
      "provenance": []
    },
    "kernelspec": {
      "display_name": "Python 3",
      "name": "python3"
    },
    "language_info": {
      "name": "python"
    }
  },
  "nbformat": 4,
  "nbformat_minor": 0
}
